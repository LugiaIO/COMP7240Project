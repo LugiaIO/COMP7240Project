{
 "cells": [
  {
   "cell_type": "code",
   "execution_count": 1,
   "metadata": {},
   "outputs": [
    {
     "name": "stderr",
     "output_type": "stream",
     "text": [
      "/var/folders/8q/8d08rsmx5jzfrj_nt62_x0n80000gn/T/ipykernel_1213/3306306474.py:8: DtypeWarning: Columns (3) have mixed types. Specify dtype option on import or set low_memory=False.\n",
      "  Books_df = pd.read_csv(Books)\n"
     ]
    }
   ],
   "source": [
    "#input dataset\n",
    "import pandas as pd\n",
    "from surprise import KNNBasic, dump\n",
    "Books = 'Books.csv'\n",
    "Ratings = 'Ratings.csv'\n",
    "Users = 'Users.csv'\n",
    "\n",
    "Books_df = pd.read_csv(Books)\n",
    "Ratings_df = pd.read_csv(Ratings)\n",
    "Users_df = pd.read_csv(Users)\n",
    "#Dispose data\n",
    "Books_df = Books_df.fillna(0)\n",
    "Users_df.loc[Users_df['Age'] > 100, 'Age'] = None\n",
    "Users_df = Users_df.fillna(0)\n",
    "# 合并 Ratings_df 和 Users_df 数据集\n",
    "merged_df = pd.merge(Ratings_df, Users_df, on='User-ID')\n",
    "merged_df = merged_df.fillna(0)\n",
    "# 合并 Books_df 和合并后的数据集\n",
    "merged_df = pd.merge(merged_df,Books_df, on='ISBN')\n",
    "merged_df = merged_df.fillna(0)\n",
    "data_df = merged_df[['Age','ISBN','Book-Rating']].copy(deep=True)\n",
    "data_df1 = data_df[:10000]\n",
    "data_df1 = data_df[data_df['Book-Rating'] != 0]"
   ]
  },
  {
   "cell_type": "code",
   "execution_count": 2,
   "metadata": {},
   "outputs": [],
   "source": [
    "# 将用户的年龄分成若干个区间\n",
    "age_bins = [0, 9, 19, 29, 39, 49, 59, 69, 79, 89, 100]\n",
    "age_labels = ['0-9', '10-19', '20-29', '30-39', '40-49', '50-59', '60-69', '70-79', '80-89', '90-100']\n",
    "merged_df['age_group'] = pd.cut(merged_df['Age'], bins=age_bins, labels=age_labels)"
   ]
  },
  {
   "cell_type": "code",
   "execution_count": 3,
   "metadata": {},
   "outputs": [
    {
     "name": "stdout",
     "output_type": "stream",
     "text": [
      "Computing the cosine similarity matrix...\n"
     ]
    },
    {
     "ename": "",
     "evalue": "",
     "output_type": "error",
     "traceback": [
      "\u001b[1;31mCanceled future for execute_request message before replies were done"
     ]
    },
    {
     "ename": "",
     "evalue": "",
     "output_type": "error",
     "traceback": [
      "\u001b[1;31mThe Kernel crashed while executing code in the the current cell or a previous cell. Please review the code in the cell(s) to identify a possible cause of the failure. Click <a href='https://aka.ms/vscodeJupyterKernelCrash'>here</a> for more info. View Jupyter <a href='command:jupyter.viewOutput'>log</a> for further details."
     ]
    }
   ],
   "source": [
    "# 使用KNN算法进行改进\n",
    "from surprise import Reader, Dataset, KNNBasic\n",
    "\n",
    "# 将数据集转换成适合surprise模型的格式\n",
    "reader = Reader(rating_scale=(1, 10))\n",
    "data = Dataset.load_from_df(data_df1, reader)\n",
    "\n",
    "# 使用KNN算法进行训练\n",
    "sim_options = {'name': 'cosine', 'user_based': False, 'min_support': 2, 'shrinkage': 100}\n",
    "model = KNNBasic(sim_options=sim_options)\n",
    "trainset = data.build_full_trainset()\n",
    "model.fit(trainset)\n",
    "\n",
    "# 输出每个年龄区间内的推荐书籍\n",
    "for age_group in age_labels:\n",
    "    testset = trainset.build_anti_testset()\n",
    "    testset = [x for x in testset if str(x[0]) in merged_df[merged_df['age_group'] == age_group]['User-ID'].unique().tolist()]\n",
    "    predictions = model.test(testset)\n",
    "    top_n = []\n",
    "    for uid, iid, true_r, est, _ in predictions:\n",
    "        if uid == merged_df[merged_df['age_group'] == age_group]['User-ID'].iloc[0]:\n",
    "            top_n.append((iid, est))\n",
    "    top_n = sorted(top_n, key=lambda x: x[1], reverse=True)[:10]\n",
    "    top_books = [Books_df[Books_df['ISBN'] == i[0]]['Book-Title'].iloc[0] for i in top_n]\n",
    "    print('年龄区间 %s 推荐的书籍是：%s' % (age_group, top_books))"
   ]
  }
 ],
 "metadata": {
  "kernelspec": {
   "display_name": "Python 3",
   "language": "python",
   "name": "python3"
  },
  "language_info": {
   "codemirror_mode": {
    "name": "ipython",
    "version": 3
   },
   "file_extension": ".py",
   "mimetype": "text/x-python",
   "name": "python",
   "nbconvert_exporter": "python",
   "pygments_lexer": "ipython3",
   "version": "3.9.12"
  },
  "orig_nbformat": 4
 },
 "nbformat": 4,
 "nbformat_minor": 2
}
